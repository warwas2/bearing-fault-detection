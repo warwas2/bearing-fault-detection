{
 "cells": [
  {
   "cell_type": "code",
   "execution_count": 70,
   "metadata": {},
   "outputs": [
    {
     "name": "stdout",
     "output_type": "stream",
     "text": [
      "(31468, 1024) (31468,)\n"
     ]
    }
   ],
   "source": [
    "from keras.preprocessing import sequence\n",
    "from keras.models import Sequential\n",
    "from keras.layers import Dense, Conv1D, MaxPooling1D\n",
    "from keras.layers import LSTM, Bidirectional, Dropout, Flatten\n",
    "from keras.datasets import imdb\n",
    "import tensorflow as tf\n",
    "import numpy as np\n",
    "from sklearn.preprocessing import MinMaxScaler\n",
    "from sklearn.model_selection import train_test_split\n",
    "\n",
    "path = \"C:/Users/platform_001/Desktop/2020 동계인턴/베어링 사전 연구/코드/tensorflow-fcwta-master\"\n",
    "data = np.load(path+'/Data/data.npy', allow_pickle=True)\n",
    "label = np.load(path+'/Data/label.npy', allow_pickle=True)\n",
    "\n",
    "data_nor=[]\n",
    "\n",
    "for i in data:\n",
    "    i=[(float(i[j])) for j in range(1024)]\n",
    "    temp2=[]\n",
    "    minv=min(i)\n",
    "    maxv=max(i)\n",
    "    maxmin=maxv-minv\n",
    "    for k in i:\n",
    "        temp2.append((k-minv)/maxmin)\n",
    "    data_nor.append(temp2)    \n",
    "df=np.array(data_nor)\n",
    "\n",
    "\n",
    "x_train, x_test, y_train, y_test = train_test_split(df, label, test_size=0.2)\n",
    "x_train, x_valid, y_train, y_valid = train_test_split(x_train, y_train, test_size=0.2)\n",
    "print(x_train.shape, y_train.shape)\n",
    "\n",
    "sess = tf.InteractiveSession()\n",
    "y_train = tf.one_hot(y_train, depth=10).eval()\n",
    "y_test = tf.one_hot(y_test, depth=10).eval()\n",
    "y_valid = tf.one_hot(y_valid, depth=10).eval()\n",
    "sess.close()"
   ]
  },
  {
   "cell_type": "code",
   "execution_count": 71,
   "metadata": {},
   "outputs": [
    {
     "name": "stdout",
     "output_type": "stream",
     "text": [
      "Loading data...\n",
      "31468 (31468, 1024) train sequences\n",
      "9834 (9834, 1024) test sequences\n",
      "31468 (31468, 1024, 1) train sequences\n",
      "9834 (9834, 1024, 1) test sequences\n"
     ]
    }
   ],
   "source": [
    "input_step = 1024\n",
    "feature = 1\n",
    "batch_size = 256\n",
    "epoch = 100\n",
    "\n",
    "\n",
    "print('Loading data...')\n",
    "print(len(x_train), x_train.shape, 'train sequences')\n",
    "print(len(x_test), x_test.shape, 'test sequences')\n",
    "x_train = np.reshape(x_train, (x_train.shape[0], input_step, feature))\n",
    "x_test = np.reshape(x_test, (x_test.shape[0], input_step, feature))\n",
    "x_valid = np.reshape(x_valid, (x_valid.shape[0], input_step, feature))\n",
    "print(len(x_train), x_train.shape, 'train sequences')\n",
    "print(len(x_test), x_test.shape, 'test sequences')\n"
   ]
  },
  {
   "cell_type": "code",
   "execution_count": 76,
   "metadata": {},
   "outputs": [
    {
     "name": "stdout",
     "output_type": "stream",
     "text": [
      "Build model...\n"
     ]
    },
    {
     "name": "stderr",
     "output_type": "stream",
     "text": [
      "C:\\Users\\platform_001\\Anaconda3\\envs\\tensor\\lib\\site-packages\\ipykernel_launcher.py:7: UserWarning: Update your `MaxPooling1D` call to the Keras 2 API: `MaxPooling1D(pool_size=2, strides=2)`\n",
      "  import sys\n",
      "C:\\Users\\platform_001\\Anaconda3\\envs\\tensor\\lib\\site-packages\\ipykernel_launcher.py:9: UserWarning: Update your `MaxPooling1D` call to the Keras 2 API: `MaxPooling1D(pool_size=2, strides=2)`\n",
      "  if __name__ == '__main__':\n"
     ]
    },
    {
     "name": "stdout",
     "output_type": "stream",
     "text": [
      "Model: \"sequential_41\"\n",
      "_________________________________________________________________\n",
      "Layer (type)                 Output Shape              Param #   \n",
      "=================================================================\n",
      "conv1d_39 (Conv1D)           (None, 993, 16)           528       \n",
      "_________________________________________________________________\n",
      "max_pooling1d_37 (MaxPooling (None, 496, 16)           0         \n",
      "_________________________________________________________________\n",
      "conv1d_40 (Conv1D)           (None, 239, 16)           5136      \n",
      "_________________________________________________________________\n",
      "max_pooling1d_38 (MaxPooling (None, 119, 16)           0         \n",
      "_________________________________________________________________\n",
      "lstm_33 (LSTM)               (None, 50)                13400     \n",
      "_________________________________________________________________\n",
      "dense_36 (Dense)             (None, 10)                510       \n",
      "=================================================================\n",
      "Total params: 19,574\n",
      "Trainable params: 19,574\n",
      "Non-trainable params: 0\n",
      "_________________________________________________________________\n",
      "None\n"
     ]
    }
   ],
   "source": [
    "from keras import optimizers\n",
    "print('Build model...')\n",
    "model = Sequential()\n",
    "\n",
    "\n",
    "model.add(Conv1D(filters=16, kernel_size=32, padding='valid', activation='relu', strides=1, input_shape=(input_step, feature)))\n",
    "model.add(MaxPooling1D(pool_size=2, stride=2))\n",
    "model.add(Conv1D(filters=16, kernel_size=20, padding='valid', activation='relu', strides=2))\n",
    "model.add(MaxPooling1D(pool_size=2, stride=2))\n",
    "#model.add(Flatten())\n",
    "model.add(LSTM(50, input_shape=[batch_size, 119, 16]))\n",
    "#model.add(LSTM(64, input_shape=(input_step, feature))) # input_shape = [batch_size, time_steps, features]\n",
    "#model.add(Dense(128, activation='relu'))\n",
    "#model.add(Dropout(rate=0.2))\n",
    "model.add(Dense(10, activation='softmax'))\n",
    "\n",
    "adam = optimizers.Adam(lr=0.001, beta_1=0.9, beta_2=0.999)\n",
    "# try using different optimizers and different optimizer configs\n",
    "model.compile(loss='categorical_crossentropy',\n",
    "              optimizer=adam,\n",
    "              metrics=['accuracy', 'categorical_accuracy'])\n",
    "\n",
    "print(model.summary())"
   ]
  },
  {
   "cell_type": "code",
   "execution_count": 77,
   "metadata": {},
   "outputs": [
    {
     "name": "stdout",
     "output_type": "stream",
     "text": [
      "Train\n",
      "Train on 31468 samples, validate on 7868 samples\n",
      "Epoch 1/100\n",
      "31468/31468 [==============================] - 86s 3ms/step - loss: 2.1651 - accuracy: 0.1744 - categorical_accuracy: 0.1744 - val_loss: 2.0548 - val_accuracy: 0.2173 - val_categorical_accuracy: 0.2173\n",
      "Epoch 2/100\n",
      "31468/31468 [==============================] - 86s 3ms/step - loss: 2.0228 - accuracy: 0.2438 - categorical_accuracy: 0.2438 - val_loss: 1.9600 - val_accuracy: 0.2916 - val_categorical_accuracy: 0.2916\n",
      "Epoch 3/100\n",
      "31468/31468 [==============================] - 91s 3ms/step - loss: 1.9352 - accuracy: 0.2926 - categorical_accuracy: 0.2926 - val_loss: 1.8314 - val_accuracy: 0.3358 - val_categorical_accuracy: 0.3358\n",
      "Epoch 4/100\n",
      "31468/31468 [==============================] - 82s 3ms/step - loss: 1.8046 - accuracy: 0.3342 - categorical_accuracy: 0.3342 - val_loss: 1.6946 - val_accuracy: 0.3757 - val_categorical_accuracy: 0.3757\n",
      "Epoch 5/100\n",
      "31468/31468 [==============================] - 85s 3ms/step - loss: 1.7286 - accuracy: 0.3580 - categorical_accuracy: 0.3580 - val_loss: 1.6590 - val_accuracy: 0.3837 - val_categorical_accuracy: 0.3837\n",
      "Epoch 6/100\n",
      "31468/31468 [==============================] - 74s 2ms/step - loss: 1.6494 - accuracy: 0.3842 - categorical_accuracy: 0.3842 - val_loss: 1.7005 - val_accuracy: 0.3589 - val_categorical_accuracy: 0.3589\n",
      "Epoch 7/100\n",
      "31468/31468 [==============================] - 74s 2ms/step - loss: 1.5724 - accuracy: 0.4049 - categorical_accuracy: 0.4049 - val_loss: 1.5023 - val_accuracy: 0.4243 - val_categorical_accuracy: 0.4243\n",
      "Epoch 8/100\n",
      "31468/31468 [==============================] - 85s 3ms/step - loss: 1.5028 - accuracy: 0.4201 - categorical_accuracy: 0.4201 - val_loss: 1.4585 - val_accuracy: 0.4319 - val_categorical_accuracy: 0.4319\n",
      "Epoch 9/100\n",
      "31468/31468 [==============================] - 95s 3ms/step - loss: 1.4561 - accuracy: 0.4409 - categorical_accuracy: 0.4409 - val_loss: 1.4379 - val_accuracy: 0.4440 - val_categorical_accuracy: 0.4440\n",
      "Epoch 10/100\n",
      "31468/31468 [==============================] - 93s 3ms/step - loss: 1.4421 - accuracy: 0.4438 - categorical_accuracy: 0.4438 - val_loss: 1.3349 - val_accuracy: 0.4779 - val_categorical_accuracy: 0.4779\n",
      "Epoch 11/100\n",
      "31468/31468 [==============================] - 75s 2ms/step - loss: 1.3875 - accuracy: 0.4623 - categorical_accuracy: 0.4623 - val_loss: 1.3494 - val_accuracy: 0.4728 - val_categorical_accuracy: 0.4728\n",
      "Epoch 12/100\n",
      "31468/31468 [==============================] - 75s 2ms/step - loss: 1.3472 - accuracy: 0.4774 - categorical_accuracy: 0.4774 - val_loss: 1.3016 - val_accuracy: 0.4756 - val_categorical_accuracy: 0.4756\n",
      "Epoch 13/100\n",
      "31468/31468 [==============================] - 75s 2ms/step - loss: 1.3028 - accuracy: 0.4943 - categorical_accuracy: 0.4943 - val_loss: 1.2345 - val_accuracy: 0.5174 - val_categorical_accuracy: 0.5174\n",
      "Epoch 14/100\n",
      "31468/31468 [==============================] - 74s 2ms/step - loss: 1.2541 - accuracy: 0.5117 - categorical_accuracy: 0.5117 - val_loss: 1.2774 - val_accuracy: 0.4996 - val_categorical_accuracy: 0.4996\n",
      "Epoch 15/100\n",
      "31468/31468 [==============================] - 75s 2ms/step - loss: 1.2167 - accuracy: 0.5290 - categorical_accuracy: 0.5290 - val_loss: 1.1739 - val_accuracy: 0.5452 - val_categorical_accuracy: 0.5452\n",
      "Epoch 16/100\n",
      "31468/31468 [==============================] - 82s 3ms/step - loss: 1.2025 - accuracy: 0.5430 - categorical_accuracy: 0.5430 - val_loss: 1.1208 - val_accuracy: 0.5676 - val_categorical_accuracy: 0.5676\n",
      "Epoch 17/100\n",
      "31468/31468 [==============================] - 74s 2ms/step - loss: 1.1325 - accuracy: 0.5704 - categorical_accuracy: 0.5704 - val_loss: 1.1124 - val_accuracy: 0.5807 - val_categorical_accuracy: 0.5807\n",
      "Epoch 18/100\n",
      "31468/31468 [==============================] - 77s 2ms/step - loss: 1.1452 - accuracy: 0.5663 - categorical_accuracy: 0.5663 - val_loss: 1.1403 - val_accuracy: 0.5657 - val_categorical_accuracy: 0.5657\n",
      "Epoch 19/100\n",
      "31468/31468 [==============================] - 74s 2ms/step - loss: 1.0626 - accuracy: 0.6032 - categorical_accuracy: 0.6032 - val_loss: 1.0644 - val_accuracy: 0.6045 - val_categorical_accuracy: 0.6045\n",
      "Epoch 20/100\n",
      "31468/31468 [==============================] - 70s 2ms/step - loss: 1.0421 - accuracy: 0.6098 - categorical_accuracy: 0.6098 - val_loss: 1.0234 - val_accuracy: 0.6206 - val_categorical_accuracy: 0.6206\n",
      "Epoch 21/100\n",
      "31468/31468 [==============================] - 71s 2ms/step - loss: 0.9859 - accuracy: 0.6348 - categorical_accuracy: 0.6348 - val_loss: 0.9741 - val_accuracy: 0.6436 - val_categorical_accuracy: 0.6436\n",
      "Epoch 22/100\n",
      "31468/31468 [==============================] - 71s 2ms/step - loss: 0.9538 - accuracy: 0.6519 - categorical_accuracy: 0.6519 - val_loss: 0.9592 - val_accuracy: 0.6404 - val_categorical_accuracy: 0.6404\n",
      "Epoch 23/100\n",
      "31468/31468 [==============================] - 70s 2ms/step - loss: 0.9205 - accuracy: 0.6638 - categorical_accuracy: 0.6638 - val_loss: 0.8880 - val_accuracy: 0.6772 - val_categorical_accuracy: 0.6772\n",
      "Epoch 24/100\n",
      "31468/31468 [==============================] - 70s 2ms/step - loss: 0.8922 - accuracy: 0.6751 - categorical_accuracy: 0.6751 - val_loss: 0.8401 - val_accuracy: 0.6950 - val_categorical_accuracy: 0.6950\n",
      "Epoch 25/100\n",
      "31468/31468 [==============================] - 72s 2ms/step - loss: 0.8536 - accuracy: 0.6909 - categorical_accuracy: 0.6909 - val_loss: 0.8605 - val_accuracy: 0.6866 - val_categorical_accuracy: 0.6866\n",
      "Epoch 26/100\n",
      "31468/31468 [==============================] - 75s 2ms/step - loss: 0.8285 - accuracy: 0.6998 - categorical_accuracy: 0.6998 - val_loss: 0.7862 - val_accuracy: 0.7189 - val_categorical_accuracy: 0.7189\n",
      "Epoch 27/100\n",
      "31468/31468 [==============================] - 74s 2ms/step - loss: 0.7751 - accuracy: 0.7228 - categorical_accuracy: 0.7228 - val_loss: 0.8086 - val_accuracy: 0.7097 - val_categorical_accuracy: 0.7097\n",
      "Epoch 28/100\n",
      "31468/31468 [==============================] - 101s 3ms/step - loss: 0.7625 - accuracy: 0.7307 - categorical_accuracy: 0.7307 - val_loss: 0.7514 - val_accuracy: 0.7345 - val_categorical_accuracy: 0.7345\n",
      "Epoch 29/100\n",
      "31468/31468 [==============================] - 174s 6ms/step - loss: 0.7415 - accuracy: 0.7366 - categorical_accuracy: 0.7366 - val_loss: 0.6959 - val_accuracy: 0.7536 - val_categorical_accuracy: 0.7536\n",
      "Epoch 30/100\n",
      "31468/31468 [==============================] - 211s 7ms/step - loss: 0.7146 - accuracy: 0.7485 - categorical_accuracy: 0.7485 - val_loss: 0.6487 - val_accuracy: 0.7791 - val_categorical_accuracy: 0.7791\n",
      "Epoch 31/100\n",
      "31468/31468 [==============================] - 198s 6ms/step - loss: 0.6848 - accuracy: 0.7615 - categorical_accuracy: 0.7615 - val_loss: 0.7055 - val_accuracy: 0.7503 - val_categorical_accuracy: 0.7503\n",
      "Epoch 32/100\n",
      "31468/31468 [==============================] - 224s 7ms/step - loss: 0.6659 - accuracy: 0.7672 - categorical_accuracy: 0.7672 - val_loss: 0.6516 - val_accuracy: 0.7731 - val_categorical_accuracy: 0.7731\n",
      "Epoch 33/100\n",
      "31468/31468 [==============================] - 207s 7ms/step - loss: 0.6390 - accuracy: 0.7787 - categorical_accuracy: 0.7787 - val_loss: 0.7103 - val_accuracy: 0.7471 - val_categorical_accuracy: 0.7471\n",
      "Epoch 34/100\n",
      "31468/31468 [==============================] - 110s 4ms/step - loss: 0.6336 - accuracy: 0.7766 - categorical_accuracy: 0.7766 - val_loss: 0.6384 - val_accuracy: 0.7843 - val_categorical_accuracy: 0.7843\n",
      "Epoch 35/100\n",
      "31468/31468 [==============================] - 74s 2ms/step - loss: 0.6094 - accuracy: 0.7863 - categorical_accuracy: 0.7863 - val_loss: 0.6201 - val_accuracy: 0.7833 - val_categorical_accuracy: 0.7833\n",
      "Epoch 36/100\n",
      "31468/31468 [==============================] - 82s 3ms/step - loss: 0.5808 - accuracy: 0.7966 - categorical_accuracy: 0.7966 - val_loss: 0.6012 - val_accuracy: 0.7884 - val_categorical_accuracy: 0.7884\n",
      "Epoch 37/100\n",
      "31468/31468 [==============================] - 230s 7ms/step - loss: 0.5508 - accuracy: 0.8082 - categorical_accuracy: 0.8082 - val_loss: 0.5849 - val_accuracy: 0.7961 - val_categorical_accuracy: 0.7961\n",
      "Epoch 38/100\n",
      "31468/31468 [==============================] - 240s 8ms/step - loss: 0.5456 - accuracy: 0.8095 - categorical_accuracy: 0.8095 - val_loss: 0.5662 - val_accuracy: 0.8069 - val_categorical_accuracy: 0.8069\n"
     ]
    },
    {
     "name": "stdout",
     "output_type": "stream",
     "text": [
      "Epoch 39/100\n",
      "31468/31468 [==============================] - 226s 7ms/step - loss: 0.5540 - accuracy: 0.8071 - categorical_accuracy: 0.8071 - val_loss: 0.5817 - val_accuracy: 0.7947 - val_categorical_accuracy: 0.7947\n",
      "Epoch 40/100\n",
      "31468/31468 [==============================] - 206s 7ms/step - loss: 0.5323 - accuracy: 0.8135 - categorical_accuracy: 0.8135 - val_loss: 0.5557 - val_accuracy: 0.8052 - val_categorical_accuracy: 0.8052\n",
      "Epoch 41/100\n",
      "31468/31468 [==============================] - 203s 6ms/step - loss: 0.5136 - accuracy: 0.8212 - categorical_accuracy: 0.8212 - val_loss: 0.5222 - val_accuracy: 0.8174 - val_categorical_accuracy: 0.8174\n",
      "Epoch 42/100\n",
      "31468/31468 [==============================] - 205s 7ms/step - loss: 0.4990 - accuracy: 0.8266 - categorical_accuracy: 0.8266 - val_loss: 0.5677 - val_accuracy: 0.8007 - val_categorical_accuracy: 0.8007\n",
      "Epoch 43/100\n",
      "31468/31468 [==============================] - 202s 6ms/step - loss: 0.5233 - accuracy: 0.8166 - categorical_accuracy: 0.8166 - val_loss: 0.5399 - val_accuracy: 0.8123 - val_categorical_accuracy: 0.8123\n",
      "Epoch 44/100\n",
      "31468/31468 [==============================] - 207s 7ms/step - loss: 0.4597 - accuracy: 0.8398 - categorical_accuracy: 0.8398 - val_loss: 0.4754 - val_accuracy: 0.8353 - val_categorical_accuracy: 0.8353\n",
      "Epoch 45/100\n",
      "31468/31468 [==============================] - 225s 7ms/step - loss: 0.4478 - accuracy: 0.8446 - categorical_accuracy: 0.8446 - val_loss: 0.4619 - val_accuracy: 0.8407 - val_categorical_accuracy: 0.8407\n",
      "Epoch 46/100\n",
      "31468/31468 [==============================] - 242s 8ms/step - loss: 0.4450 - accuracy: 0.8423 - categorical_accuracy: 0.8423 - val_loss: 0.5217 - val_accuracy: 0.8199 - val_categorical_accuracy: 0.8199\n",
      "Epoch 47/100\n",
      "31468/31468 [==============================] - 188s 6ms/step - loss: 0.4500 - accuracy: 0.8439 - categorical_accuracy: 0.8439 - val_loss: 0.5134 - val_accuracy: 0.8249 - val_categorical_accuracy: 0.8249\n",
      "Epoch 48/100\n",
      "31468/31468 [==============================] - 75s 2ms/step - loss: 0.4263 - accuracy: 0.8493 - categorical_accuracy: 0.8493 - val_loss: 0.4493 - val_accuracy: 0.8491 - val_categorical_accuracy: 0.8491\n",
      "Epoch 49/100\n",
      "31468/31468 [==============================] - 82s 3ms/step - loss: 0.4199 - accuracy: 0.8548 - categorical_accuracy: 0.8548 - val_loss: 0.4957 - val_accuracy: 0.8265 - val_categorical_accuracy: 0.8265\n",
      "Epoch 50/100\n",
      "31468/31468 [==============================] - 84s 3ms/step - loss: 0.4105 - accuracy: 0.8591 - categorical_accuracy: 0.8591 - val_loss: 0.4148 - val_accuracy: 0.8532 - val_categorical_accuracy: 0.8532\n",
      "Epoch 51/100\n",
      "31468/31468 [==============================] - 74s 2ms/step - loss: 0.4005 - accuracy: 0.8604 - categorical_accuracy: 0.8604 - val_loss: 0.4396 - val_accuracy: 0.8452 - val_categorical_accuracy: 0.8452\n",
      "Epoch 52/100\n",
      "31468/31468 [==============================] - 80s 3ms/step - loss: 0.3831 - accuracy: 0.8679 - categorical_accuracy: 0.8679 - val_loss: 0.4116 - val_accuracy: 0.8583 - val_categorical_accuracy: 0.8583\n",
      "Epoch 53/100\n",
      "31468/31468 [==============================] - 84s 3ms/step - loss: 0.3985 - accuracy: 0.8613 - categorical_accuracy: 0.8613 - val_loss: 0.4112 - val_accuracy: 0.8588 - val_categorical_accuracy: 0.8588\n",
      "Epoch 54/100\n",
      "31468/31468 [==============================] - 77s 2ms/step - loss: 0.3835 - accuracy: 0.8661 - categorical_accuracy: 0.8661 - val_loss: 0.3876 - val_accuracy: 0.8663 - val_categorical_accuracy: 0.8663\n",
      "Epoch 55/100\n",
      "31468/31468 [==============================] - 73s 2ms/step - loss: 0.3645 - accuracy: 0.8729 - categorical_accuracy: 0.8729 - val_loss: 0.4553 - val_accuracy: 0.8456 - val_categorical_accuracy: 0.8456\n",
      "Epoch 56/100\n",
      "31468/31468 [==============================] - 98s 3ms/step - loss: 0.3829 - accuracy: 0.8661 - categorical_accuracy: 0.8661 - val_loss: 0.3730 - val_accuracy: 0.8772 - val_categorical_accuracy: 0.8772\n",
      "Epoch 57/100\n",
      "31468/31468 [==============================] - 81s 3ms/step - loss: 0.3447 - accuracy: 0.8825 - categorical_accuracy: 0.8825 - val_loss: 0.3439 - val_accuracy: 0.8818 - val_categorical_accuracy: 0.8818\n",
      "Epoch 58/100\n",
      "31468/31468 [==============================] - 70s 2ms/step - loss: 0.3267 - accuracy: 0.8878 - categorical_accuracy: 0.8878 - val_loss: 0.3732 - val_accuracy: 0.8762 - val_categorical_accuracy: 0.8762\n",
      "Epoch 59/100\n",
      "31468/31468 [==============================] - 80s 3ms/step - loss: 0.3497 - accuracy: 0.8799 - categorical_accuracy: 0.8799 - val_loss: 0.3340 - val_accuracy: 0.8856 - val_categorical_accuracy: 0.8856\n",
      "Epoch 60/100\n",
      "31468/31468 [==============================] - 85s 3ms/step - loss: 0.3140 - accuracy: 0.8910 - categorical_accuracy: 0.8910 - val_loss: 0.3358 - val_accuracy: 0.8846 - val_categorical_accuracy: 0.8846\n",
      "Epoch 61/100\n",
      "31468/31468 [==============================] - 74s 2ms/step - loss: 0.3243 - accuracy: 0.8896 - categorical_accuracy: 0.8896 - val_loss: 0.3568 - val_accuracy: 0.8785 - val_categorical_accuracy: 0.8785\n",
      "Epoch 62/100\n",
      "31468/31468 [==============================] - 74s 2ms/step - loss: 0.3217 - accuracy: 0.8908 - categorical_accuracy: 0.8908 - val_loss: 0.3282 - val_accuracy: 0.8896 - val_categorical_accuracy: 0.8896\n",
      "Epoch 63/100\n",
      "31468/31468 [==============================] - 71s 2ms/step - loss: 0.3323 - accuracy: 0.8863 - categorical_accuracy: 0.8863 - val_loss: 0.3230 - val_accuracy: 0.8904 - val_categorical_accuracy: 0.8904\n",
      "Epoch 64/100\n",
      "31468/31468 [==============================] - 72s 2ms/step - loss: 0.3085 - accuracy: 0.8950 - categorical_accuracy: 0.8950 - val_loss: 0.3850 - val_accuracy: 0.8655 - val_categorical_accuracy: 0.8655\n",
      "Epoch 65/100\n",
      "31468/31468 [==============================] - 74s 2ms/step - loss: 0.3060 - accuracy: 0.8949 - categorical_accuracy: 0.8949 - val_loss: 0.3199 - val_accuracy: 0.8908 - val_categorical_accuracy: 0.8908\n",
      "Epoch 66/100\n",
      "31468/31468 [==============================] - 70s 2ms/step - loss: 0.2894 - accuracy: 0.9015 - categorical_accuracy: 0.9015 - val_loss: 0.3169 - val_accuracy: 0.8953 - val_categorical_accuracy: 0.8953\n",
      "Epoch 67/100\n",
      "31468/31468 [==============================] - 70s 2ms/step - loss: 0.2981 - accuracy: 0.8990 - categorical_accuracy: 0.8990 - val_loss: 0.2828 - val_accuracy: 0.9071 - val_categorical_accuracy: 0.9071\n",
      "Epoch 68/100\n",
      "31468/31468 [==============================] - 70s 2ms/step - loss: 0.2850 - accuracy: 0.9022 - categorical_accuracy: 0.9022 - val_loss: 0.3303 - val_accuracy: 0.8906 - val_categorical_accuracy: 0.8906\n",
      "Epoch 69/100\n",
      "31468/31468 [==============================] - 70s 2ms/step - loss: 0.2808 - accuracy: 0.9036 - categorical_accuracy: 0.9036 - val_loss: 0.2861 - val_accuracy: 0.9035 - val_categorical_accuracy: 0.9035\n",
      "Epoch 70/100\n",
      "31468/31468 [==============================] - 70s 2ms/step - loss: 0.2778 - accuracy: 0.9044 - categorical_accuracy: 0.9044 - val_loss: 0.2807 - val_accuracy: 0.9046 - val_categorical_accuracy: 0.9046\n",
      "Epoch 71/100\n",
      "31468/31468 [==============================] - 70s 2ms/step - loss: 0.2565 - accuracy: 0.9111 - categorical_accuracy: 0.9111 - val_loss: 0.2985 - val_accuracy: 0.8990 - val_categorical_accuracy: 0.8990\n",
      "Epoch 72/100\n",
      "31468/31468 [==============================] - 70s 2ms/step - loss: 0.2825 - accuracy: 0.9022 - categorical_accuracy: 0.9022 - val_loss: 0.3538 - val_accuracy: 0.8838 - val_categorical_accuracy: 0.8838\n",
      "Epoch 73/100\n",
      "31468/31468 [==============================] - 70s 2ms/step - loss: 0.2586 - accuracy: 0.9122 - categorical_accuracy: 0.9122 - val_loss: 0.3671 - val_accuracy: 0.8756 - val_categorical_accuracy: 0.8756\n",
      "Epoch 74/100\n",
      "31468/31468 [==============================] - 77s 2ms/step - loss: 0.2547 - accuracy: 0.9129 - categorical_accuracy: 0.9129 - val_loss: 0.2874 - val_accuracy: 0.9007 - val_categorical_accuracy: 0.9007\n",
      "Epoch 75/100\n",
      "31468/31468 [==============================] - 71s 2ms/step - loss: 0.2787 - accuracy: 0.9050 - categorical_accuracy: 0.9050 - val_loss: 0.3576 - val_accuracy: 0.8805 - val_categorical_accuracy: 0.8805\n",
      "Epoch 76/100\n",
      "31468/31468 [==============================] - 70s 2ms/step - loss: 0.2514 - accuracy: 0.9142 - categorical_accuracy: 0.9142 - val_loss: 0.2432 - val_accuracy: 0.9190 - val_categorical_accuracy: 0.9190\n",
      "Epoch 77/100\n"
     ]
    },
    {
     "name": "stdout",
     "output_type": "stream",
     "text": [
      "31468/31468 [==============================] - 70s 2ms/step - loss: 0.2363 - accuracy: 0.9197 - categorical_accuracy: 0.9197 - val_loss: 0.2514 - val_accuracy: 0.9143 - val_categorical_accuracy: 0.9143\n",
      "Epoch 78/100\n",
      "31468/31468 [==============================] - 70s 2ms/step - loss: 0.2341 - accuracy: 0.9216 - categorical_accuracy: 0.9216 - val_loss: 0.2784 - val_accuracy: 0.9038 - val_categorical_accuracy: 0.9038\n",
      "Epoch 79/100\n",
      "31468/31468 [==============================] - 70s 2ms/step - loss: 0.2328 - accuracy: 0.9205 - categorical_accuracy: 0.9205 - val_loss: 0.3709 - val_accuracy: 0.8728 - val_categorical_accuracy: 0.8728\n",
      "Epoch 80/100\n",
      "31468/31468 [==============================] - 70s 2ms/step - loss: 0.2244 - accuracy: 0.9229 - categorical_accuracy: 0.9229 - val_loss: 0.2362 - val_accuracy: 0.9222 - val_categorical_accuracy: 0.9222\n",
      "Epoch 81/100\n",
      "31468/31468 [==============================] - 70s 2ms/step - loss: 0.2360 - accuracy: 0.9198 - categorical_accuracy: 0.9198 - val_loss: 0.2748 - val_accuracy: 0.9079 - val_categorical_accuracy: 0.9079\n",
      "Epoch 82/100\n",
      "31468/31468 [==============================] - 76s 2ms/step - loss: 0.2240 - accuracy: 0.9247 - categorical_accuracy: 0.9247 - val_loss: 0.2415 - val_accuracy: 0.9197 - val_categorical_accuracy: 0.9197\n",
      "Epoch 83/100\n",
      "31468/31468 [==============================] - 80s 3ms/step - loss: 0.2032 - accuracy: 0.9327 - categorical_accuracy: 0.9327 - val_loss: 0.2454 - val_accuracy: 0.9188 - val_categorical_accuracy: 0.9188\n",
      "Epoch 84/100\n",
      "31468/31468 [==============================] - 76s 2ms/step - loss: 0.2202 - accuracy: 0.9243 - categorical_accuracy: 0.9243 - val_loss: 0.2939 - val_accuracy: 0.9035 - val_categorical_accuracy: 0.9035\n",
      "Epoch 85/100\n",
      "31468/31468 [==============================] - 149s 5ms/step - loss: 0.2103 - accuracy: 0.9274 - categorical_accuracy: 0.9274 - val_loss: 0.2407 - val_accuracy: 0.9183 - val_categorical_accuracy: 0.9183\n",
      "Epoch 86/100\n",
      "31468/31468 [==============================] - 159s 5ms/step - loss: 0.2143 - accuracy: 0.9277 - categorical_accuracy: 0.9277 - val_loss: 0.2478 - val_accuracy: 0.9166 - val_categorical_accuracy: 0.9166\n",
      "Epoch 87/100\n",
      "31468/31468 [==============================] - 143s 5ms/step - loss: 0.2146 - accuracy: 0.9258 - categorical_accuracy: 0.9258 - val_loss: 0.2571 - val_accuracy: 0.9118 - val_categorical_accuracy: 0.9118\n",
      "Epoch 88/100\n",
      "31468/31468 [==============================] - 139s 4ms/step - loss: 0.2154 - accuracy: 0.9263 - categorical_accuracy: 0.9263 - val_loss: 0.2241 - val_accuracy: 0.9259 - val_categorical_accuracy: 0.9259\n",
      "Epoch 89/100\n",
      "31468/31468 [==============================] - 150s 5ms/step - loss: 0.2101 - accuracy: 0.9281 - categorical_accuracy: 0.9281 - val_loss: 0.2054 - val_accuracy: 0.9335 - val_categorical_accuracy: 0.9335\n",
      "Epoch 90/100\n",
      "31468/31468 [==============================] - 112s 4ms/step - loss: 0.2068 - accuracy: 0.9302 - categorical_accuracy: 0.9302 - val_loss: 0.2516 - val_accuracy: 0.9127 - val_categorical_accuracy: 0.9127\n",
      "Epoch 91/100\n",
      "31468/31468 [==============================] - 70s 2ms/step - loss: 0.2027 - accuracy: 0.9308 - categorical_accuracy: 0.9308 - val_loss: 0.2556 - val_accuracy: 0.9123 - val_categorical_accuracy: 0.9123\n",
      "Epoch 92/100\n",
      "31468/31468 [==============================] - 70s 2ms/step - loss: 0.1992 - accuracy: 0.9323 - categorical_accuracy: 0.9323 - val_loss: 0.2943 - val_accuracy: 0.9039 - val_categorical_accuracy: 0.9039\n",
      "Epoch 93/100\n",
      "31468/31468 [==============================] - 144s 5ms/step - loss: 0.1719 - accuracy: 0.9416 - categorical_accuracy: 0.9416 - val_loss: 0.3691 - val_accuracy: 0.8847 - val_categorical_accuracy: 0.8847\n",
      "Epoch 94/100\n",
      "31468/31468 [==============================] - 221s 7ms/step - loss: 0.1986 - accuracy: 0.9327 - categorical_accuracy: 0.9327 - val_loss: 0.2192 - val_accuracy: 0.9305 - val_categorical_accuracy: 0.9305\n",
      "Epoch 95/100\n",
      "31468/31468 [==============================] - 232s 7ms/step - loss: 0.1840 - accuracy: 0.9381 - categorical_accuracy: 0.9381 - val_loss: 0.2063 - val_accuracy: 0.9278 - val_categorical_accuracy: 0.9278\n",
      "Epoch 96/100\n",
      "31468/31468 [==============================] - 53998s 2s/step - loss: 0.1766 - accuracy: 0.9408 - categorical_accuracy: 0.9408 - val_loss: 0.2010 - val_accuracy: 0.9337 - val_categorical_accuracy: 0.9337\n",
      "Epoch 97/100\n",
      "31468/31468 [==============================] - 224s 7ms/step - loss: 0.1787 - accuracy: 0.9399 - categorical_accuracy: 0.9399 - val_loss: 0.2562 - val_accuracy: 0.9168 - val_categorical_accuracy: 0.9168\n",
      "Epoch 98/100\n",
      "31468/31468 [==============================] - 221s 7ms/step - loss: 0.1820 - accuracy: 0.9390 - categorical_accuracy: 0.9390 - val_loss: 0.2158 - val_accuracy: 0.9268 - val_categorical_accuracy: 0.9268\n",
      "Epoch 99/100\n",
      "31468/31468 [==============================] - 224s 7ms/step - loss: 0.1788 - accuracy: 0.9401 - categorical_accuracy: 0.9401 - val_loss: 0.2509 - val_accuracy: 0.9183 - val_categorical_accuracy: 0.9183\n",
      "Epoch 100/100\n",
      "31468/31468 [==============================] - 224s 7ms/step - loss: 0.1808 - accuracy: 0.9398 - categorical_accuracy: 0.9398 - val_loss: 0.1867 - val_accuracy: 0.9403 - val_categorical_accuracy: 0.9403\n"
     ]
    }
   ],
   "source": [
    "print('Train')\n",
    "history = model.fit(x_train, y_train,\n",
    "          batch_size=batch_size,\n",
    "          epochs=epoch,\n",
    "          validation_data=(x_valid, y_valid))\n"
   ]
  },
  {
   "cell_type": "code",
   "execution_count": 80,
   "metadata": {},
   "outputs": [
    {
     "name": "stdout",
     "output_type": "stream",
     "text": [
      "9834/9834 [==============================] - 28s 3ms/step\n"
     ]
    },
    {
     "data": {
      "text/plain": [
       "[0.18825241948182636, 0.9370551109313965, 0.9370551109313965]"
      ]
     },
     "execution_count": 80,
     "metadata": {},
     "output_type": "execute_result"
    }
   ],
   "source": [
    "model.evaluate(x_test, y_test, batch_size=batch_size)"
   ]
  },
  {
   "cell_type": "code",
   "execution_count": 82,
   "metadata": {},
   "outputs": [
    {
     "data": {
      "text/plain": [
       "['loss', 'accuracy', 'categorical_accuracy']"
      ]
     },
     "execution_count": 82,
     "metadata": {},
     "output_type": "execute_result"
    }
   ],
   "source": [
    "model.metrics_names"
   ]
  },
  {
   "cell_type": "code",
   "execution_count": 86,
   "metadata": {},
   "outputs": [
    {
     "name": "stdout",
     "output_type": "stream",
     "text": [
      "[2.1651312998808883, 2.022838396205977, 1.9351801502669768, 1.8045575415238015, 1.7285535370998981, 1.6493593422539492, 1.5724356426767796, 1.5028012945340763, 1.4561425945394237, 1.4420769559362723, 1.3874609155486406, 1.3472421985425957, 1.302781118679277, 1.2540864652458135, 1.2167285908218621, 1.2024621378743574, 1.1324549455252964, 1.1452417604287122, 1.0625843685222154, 1.0421462452394983, 0.9859380417014375, 0.9537933123783007, 0.920512683588258, 0.8921731424040726, 0.8536026129671681, 0.8284996781534656, 0.7751478487129692, 0.762541850072025, 0.7414704669502286, 0.714570764318209, 0.6848435917197029, 0.6659133162373613, 0.6389536107072871, 0.6336347994968642, 0.6093798474706658, 0.580771827009804, 0.5508188312323709, 0.5456081733128403, 0.5539621218605206, 0.5323289029212136, 0.5136271627882437, 0.4989554115834011, 0.5232757849464184, 0.45968983316415446, 0.4477550017079086, 0.44504264770263907, 0.4499700314680109, 0.42634164591491397, 0.4199007966473852, 0.4104726603059343, 0.4004956073495504, 0.3830550533435359, 0.39847806854488677, 0.383541336227921, 0.36450321681241576, 0.3828511398948101, 0.3446595916469836, 0.3267097856972077, 0.34970387777409956, 0.31400503470662194, 0.32431238399870865, 0.3216680384764181, 0.33233338036803256, 0.30848289050140054, 0.3060221537953337, 0.289404569150866, 0.29812531041207996, 0.28496220039263664, 0.2808052912000266, 0.27782315199523955, 0.2565213687555966, 0.2824650775095218, 0.25859075124766545, 0.25468564443399144, 0.2786963742850953, 0.25144668647957163, 0.23626998052696147, 0.23406563961393756, 0.23278908225258682, 0.2244256820406107, 0.23598754675510772, 0.22396724757213854, 0.203179391403354, 0.22022398587662428, 0.21031728136663713, 0.21430731108178933, 0.21463868029920394, 0.21535098113453918, 0.21013872298144834, 0.20677811910119037, 0.2027215040615012, 0.1991691730354889, 0.17186056125780763, 0.19859932593549542, 0.18401437934932707, 0.1766282445584802, 0.1786832560388412, 0.18198087434253019, 0.17882722113681623, 0.18081415008866714]\n",
      "[0.17443117, 0.24377145, 0.29261473, 0.33421254, 0.35804626, 0.3842316, 0.4049193, 0.42010933, 0.44086057, 0.44381595, 0.4623427, 0.4774056, 0.49434346, 0.5117262, 0.5289818, 0.54299605, 0.57042074, 0.56628954, 0.603216, 0.6097941, 0.63483536, 0.6519321, 0.6638172, 0.67509854, 0.6909241, 0.69979024, 0.7228295, 0.7306788, 0.73658955, 0.7485382, 0.76150376, 0.76719207, 0.7787276, 0.77659845, 0.78625906, 0.7965552, 0.80824965, 0.80945724, 0.80707383, 0.81352484, 0.8211517, 0.8265857, 0.8166391, 0.8398373, 0.84463584, 0.8422842, 0.84387314, 0.84930724, 0.8548049, 0.85906315, 0.8603661, 0.86789757, 0.8613194, 0.8661497, 0.8728867, 0.8660544, 0.88251555, 0.887759, 0.879878, 0.8909686, 0.88957036, 0.8908415, 0.8862654, 0.8949727, 0.89490914, 0.90148723, 0.89897674, 0.90218633, 0.9035846, 0.90441084, 0.9110843, 0.90218633, 0.91216475, 0.9128956, 0.90495104, 0.91423035, 0.919728, 0.9216347, 0.9204907, 0.9229058, 0.9197915, 0.92474896, 0.9327253, 0.9242723, 0.92741835, 0.92770433, 0.9258294, 0.92630607, 0.9280857, 0.93018305, 0.9308186, 0.9323122, 0.9415597, 0.9327253, 0.93812764, 0.940797, 0.9399072, 0.9389539, 0.9400661, 0.93984365]\n",
      "[2.0547903699200956, 1.9600315960034176, 1.8313513702102646, 1.6946107629112743, 1.6590095207542106, 1.7005481937541294, 1.5022798586934123, 1.458546513037204, 1.4378556367038287, 1.3349484465239796, 1.3493703885555994, 1.3015501402208631, 1.2344862711750801, 1.2774456490946713, 1.173870533144165, 1.1207561124443826, 1.112423059597316, 1.1403432289961333, 1.0643675576386018, 1.0233525320183037, 0.9740630194931147, 0.9592360158104792, 0.8880060419978135, 0.8401283981476451, 0.8605196529314733, 0.7861662959470685, 0.8085520521722958, 0.7514446894408605, 0.6959311817585664, 0.6487439753867432, 0.7054732850377307, 0.651601814229778, 0.710330670505353, 0.6384240109482936, 0.6200946768831952, 0.6011801095074303, 0.5848968543858473, 0.5661552602649644, 0.5816784270778185, 0.5556692827699387, 0.5221602280975055, 0.5677026653568576, 0.5398516987384608, 0.4753613730766595, 0.4618905235136834, 0.5217414663173732, 0.5133727357420269, 0.4493188764398087, 0.49572196861906104, 0.41478821088289575, 0.43955996541669057, 0.4116095934019637, 0.4112133077243045, 0.38758584205487323, 0.4553256923769353, 0.37299893306304066, 0.34389215728990546, 0.3731642231822438, 0.3339816299439931, 0.33578555098813867, 0.35676107795394857, 0.3281529587752697, 0.3229795554960568, 0.3850421904911532, 0.31989146639504407, 0.3168827675142807, 0.2827812216278255, 0.3302976912390356, 0.2861224290951291, 0.2806883459625719, 0.29853366670659426, 0.3538246568260183, 0.367142510538363, 0.2874469775715999, 0.3576474008701995, 0.24323196661429897, 0.2513545033709919, 0.27844744437408736, 0.37093233312212637, 0.2361759782201091, 0.2747692303513293, 0.2414932751873755, 0.2454074591958832, 0.2939218006797048, 0.2407362873201511, 0.24784898695814833, 0.2570715819025743, 0.22405195243024076, 0.205420396309185, 0.25159678566134636, 0.25556380765718073, 0.2942522451940623, 0.3690885719637248, 0.21923042639870297, 0.2063436047583591, 0.20103616954168815, 0.25623734499151235, 0.2157610829144974, 0.2509439198814435, 0.18671414756841567]\n",
      "[0.217336043715477, 0.29156073927879333, 0.3357905447483063, 0.3756990432739258, 0.38370615243911743, 0.35892221331596375, 0.42425012588500977, 0.43187594413757324, 0.44395017623901367, 0.47788509726524353, 0.47280120849609375, 0.4755973517894745, 0.5174123048782349, 0.4996187090873718, 0.5452465415000916, 0.5676156878471375, 0.5807066559791565, 0.5657091736793518, 0.6044738292694092, 0.6206151247024536, 0.64361971616745, 0.6404423117637634, 0.677173376083374, 0.6949669718742371, 0.6865785717964172, 0.7188612222671509, 0.7097102403640747, 0.734494149684906, 0.7535586953163147, 0.7791052460670471, 0.750254213809967, 0.7731316685676575, 0.7470767498016357, 0.7843162417411804, 0.783299446105957, 0.7883833050727844, 0.7961362600326538, 0.8069394826889038, 0.7947381734848022, 0.8051601648330688, 0.8173614740371704, 0.8007117509841919, 0.8122775554656982, 0.8352821469306946, 0.8407473564147949, 0.8199034333229065, 0.8248602151870728, 0.8491357564926147, 0.8265124559402466, 0.8532028198242188, 0.8451957106590271, 0.8582867383956909, 0.8587951064109802, 0.8662938475608826, 0.8455770015716553, 0.8772242069244385, 0.8817996978759766, 0.8762074112892151, 0.8856126070022583, 0.8845958113670349, 0.8784951567649841, 0.8895525932312012, 0.8904423117637634, 0.8655312657356262, 0.8908236026763916, 0.8952720165252686, 0.9070920348167419, 0.8905693888664246, 0.9035332798957825, 0.9045500755310059, 0.8989577889442444, 0.8838332295417786, 0.8755719661712646, 0.9007371664047241, 0.8805287480354309, 0.9190391302108765, 0.9143365621566772, 0.9037874937057495, 0.8727757930755615, 0.9222165942192078, 0.9078546166419983, 0.9196746349334717, 0.9187849760055542, 0.9035332798957825, 0.9182765483856201, 0.9166243076324463, 0.9117946028709412, 0.9259023666381836, 0.9335282444953918, 0.9126842617988586, 0.9123029708862305, 0.9039145708084106, 0.8847229480743408, 0.9304778575897217, 0.9278088212013245, 0.933655321598053, 0.9167513847351074, 0.9267920851707458, 0.9182765483856201, 0.9402643442153931]\n"
     ]
    }
   ],
   "source": [
    "print(history.history['loss'])\n",
    "print(history.history['accuracy'])\n",
    "print(history.history['val_loss'])\n",
    "print(history.history['val_accuracy'])"
   ]
  },
  {
   "cell_type": "code",
   "execution_count": 90,
   "metadata": {},
   "outputs": [
    {
     "data": {
      "image/png": "[encoded data removed]",
      "text/plain": [
       "<Figure size 432x288 with 2 Axes>"
      ]
     },
     "metadata": {
      "needs_background": "light"
     },
     "output_type": "display_data"
    }
   ],
   "source": [
    "import matplotlib.pyplot as plt\n",
    "\n",
    "hist = history\n",
    "\n",
    "fig, loss_ax = plt.subplots()\n",
    "acc_ax = loss_ax.twinx()\n",
    "\n",
    "#loss_ax.plot(hist.history['loss'], 'y', label='train loss')\n",
    "#loss_ax.plot(hist.history['val_loss'], 'r', label='val loss')\n",
    "#loss_ax.set_xlabel('epoch')\n",
    "#loss_ax.set_ylabel('loss')\n",
    "#loss_ax.legend(loc='upper left')\n",
    "\n",
    "acc_ax.plot(hist.history['accuracy'], 'b', label='train acc')\n",
    "acc_ax.plot(hist.history['val_accuracy'], 'g', label='val acc')\n",
    "acc_ax.set_ylabel('accuracy')\n",
    "acc_ax.legend(loc='upper left')\n",
    "\n",
    "plt.show()"
   ]
  },
  {
   "cell_type": "code",
   "execution_count": null,
   "metadata": {},
   "outputs": [],
   "source": []
  }
 ],
 "metadata": {
  "kernelspec": {
   "display_name": "Python 3",
   "language": "python",
   "name": "python3"
  },
  "language_info": {
   "codemirror_mode": {
    "name": "ipython",
    "version": 3
   },
   "file_extension": ".py",
   "mimetype": "text/x-python",
   "name": "python",
   "nbconvert_exporter": "python",
   "pygments_lexer": "ipython3",
   "version": "3.6.7"
  }
 },
 "nbformat": 4,
 "nbformat_minor": 4
}
