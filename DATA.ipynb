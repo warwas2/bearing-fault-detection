{
 "cells": [
  {
   "cell_type": "code",
   "execution_count": 2,
   "metadata": {
    "scrolled": true
   },
   "outputs": [],
   "source": [
    "import os \n",
    "import csv\n",
    "import pandas as pd\n",
    "import numpy as np\n",
    "import random\n",
    "\n",
    "#파일 안의 이미지 이름 가져오기\n",
    "path = \"/Users/etri-sw-soc/Desktop/Case_western_reserve_data_RE\"\n",
    "\n",
    "file_list = os.listdir(path)"
   ]
  },
  {
   "cell_type": "code",
   "execution_count": 13,
   "metadata": {
    "scrolled": true
   },
   "outputs": [
    {
     "name": "stdout",
     "output_type": "stream",
     "text": [
      "12_B007_1.csv 파일 시작...\n",
      "12_B007_2.csv 파일 시작...\n"
     ]
    }
   ],
   "source": [
    "\n",
    "images=[]\n",
    "labels=[]\n",
    "mulnum=2 #기본 뽑는개수의 몇배수로 뽑을지 (1:데이터 대략 25000개, 2:데이터 대략 50000개)\n",
    "ifrandom=True #랜덤으로 뽑을것인지. (오버래핑하려면 False값 주기)\n",
    "\n",
    "takenum=75*mulnum\n",
    "for filelisti in file_list:\n",
    "    print(filelisti,\"파일 시작...\")\n",
    "    if '28' in filelisti: #28 파일의 경우는 파일개수가 적어서 사용x\n",
    "        continue\n",
    "    if '007' in filelisti and 'OR' in filelisti: #클래스 당 데이터 개수 평준화 위해 추출할 개수 조정\n",
    "        takenum=28*mulnum\n",
    "    elif '021' in filelisti and 'OR' in filelisti:\n",
    "        takenum=33*mulnum\n",
    "    elif 'normal' in filelisti:\n",
    "        takenum=300*mulnum\n",
    "    else:\n",
    "        takenum=75*mulnum\n",
    "        \n",
    "    filepath=path+'/'+filelisti\n",
    "    f=open(filepath,'r',encoding='utf-8')\n",
    "    rdr=csv.reader(f)\n",
    "    data=[]\n",
    "    collen=0 #한 파일에 몇개의 column이 있는지\n",
    "    colname=[]\n",
    "    for line in rdr: #데이터를 추출할 column개수 얻기\n",
    "        collen=len(line) #column개수 받기\n",
    "        colname=line\n",
    "        for i in line:\n",
    "            if 'RPM' in i: #column명이 'RPM'인 열은 데이터를 뽑지X\n",
    "                collen-=1 #앞으로 뽑을 column개수-1\n",
    "        break\n",
    "    for line in rdr: #여기서부터는 데이터 뽑기\n",
    "        temp=[]\n",
    "        for i in line:\n",
    "            temp.append(i)\n",
    "        data.append(temp[0:collen])\n",
    "    \n",
    "    data=pd.DataFrame(data)\n",
    "    if ifrandom==True:#랜덤으로 뽑을때\n",
    "        padding=(len(data)-1025)\n",
    "    else:#오버래핑할때\n",
    "        padding=(len(data)-1025)//takenum\n",
    "        \n",
    "    for i in range(takenum):\n",
    "        temp=[]\n",
    "        if ifrandom==True:\n",
    "            startpoint=random.randint(1,padding) #데이터 뽑을 시작위치\n",
    "            temp=data[startpoint:startpoint+1024]\n",
    "            #print(\"데이터 추출 시작위치 : \",startpoint)\n",
    "        else:\n",
    "            temp=data[i*padding:i*padding+1024]\n",
    "            #print(\"데이터 추출 시작위치 : \",i*padding)\n",
    "        for j in range(collen):\n",
    "            images.append(temp[j])\n",
    "            labels.append(filelisti[:len(filelisti)-4]+\"_\"+colname[j].split('_')[1])\n",
    "    \n",
    "\n"
   ]
  },
  {
   "cell_type": "code",
   "execution_count": null,
   "metadata": {
    "scrolled": true
   },
   "outputs": [],
   "source": [
    "label_num=[] \n",
    "label_count=[0,0,0,0,0,0,0,0,0,0] #각 클래스 당 데이터 개수 확인용\n",
    "for i in labels: #라벨 형식 변환(문자열->숫자)\n",
    "    if \"28\" in i: #파일이름에 '28'이 있는 경우는 데이터가 작아서 제외.\n",
    "        print(i)\n",
    "    if \"007\" in i:\n",
    "        if \"IR\" in i:\n",
    "            label_num.append(6)\n",
    "            label_count[6]+=1\n",
    "        elif \"OR\" in i:\n",
    "            label_num.append(3)\n",
    "            label_count[3]+=1\n",
    "        elif \"B\" in i:\n",
    "            label_num.append(0)\n",
    "            label_count[0]+=1\n",
    "    elif \"014\" in i:\n",
    "        if \"IR\" in i:\n",
    "            label_num.append(7)\n",
    "            label_count[7]+=1\n",
    "        elif \"OR\" in i:\n",
    "            label_num.append(4)\n",
    "            label_count[4]+=1\n",
    "        elif \"B\" in i:\n",
    "            label_num.append(1)\n",
    "            label_count[1]+=1\n",
    "    elif \"021\" in i:\n",
    "        if \"IR\" in i:\n",
    "            label_num.append(8)\n",
    "            label_count[8]+=1\n",
    "        elif \"OR\" in i:\n",
    "            label_num.append(5)\n",
    "            label_count[5]+=1\n",
    "        elif \"B\" in i:\n",
    "            label_num.append(2)\n",
    "            label_count[2]+=1\n",
    "    elif \"normal\" in i:\n",
    "        label_num.append(9)\n",
    "        label_count[9]+=1\n",
    "    else:\n",
    "        print(i)\n",
    "\n"
   ]
  },
  {
   "cell_type": "code",
   "execution_count": 5,
   "metadata": {},
   "outputs": [
    {
     "data": {
      "text/plain": [
       "[4800, 4800, 4800, 5568, 5250, 4752, 4800, 4800, 4800, 4800]"
      ]
     },
     "execution_count": 5,
     "metadata": {},
     "output_type": "execute_result"
    }
   ],
   "source": [
    "label_count #각 클래스 당 데이터 개수"
   ]
  },
  {
   "cell_type": "code",
   "execution_count": 6,
   "metadata": {},
   "outputs": [],
   "source": [
    "#저장 형식 : numpy 배열 \n",
    "np.save('/Users/etri-sw-soc/Desktop/temp/data',images) #데이터 저장\n",
    "np.save('/Users/etri-sw-soc/Desktop/temp/label',label_num) #라벨 저장"
   ]
  }
 ],
 "metadata": {
  "kernelspec": {
   "display_name": "Python 3",
   "language": "python",
   "name": "python3"
  },
  "language_info": {
   "codemirror_mode": {
    "name": "ipython",
    "version": 3
   },
   "file_extension": ".py",
   "mimetype": "text/x-python",
   "name": "python",
   "nbconvert_exporter": "python",
   "pygments_lexer": "ipython3",
   "version": "3.6.10"
  }
 },
 "nbformat": 4,
 "nbformat_minor": 2
}
